{
 "cells": [
  {
   "cell_type": "code",
   "execution_count": 10,
   "id": "bca633c6",
   "metadata": {},
   "outputs": [],
   "source": [
    "import matplotlib"
   ]
  },
  {
   "cell_type": "code",
   "execution_count": 3,
   "id": "3f197084",
   "metadata": {},
   "outputs": [],
   "source": [
    "from matplotlib import pyplot as plt"
   ]
  },
  {
   "cell_type": "code",
   "execution_count": 4,
   "id": "0f04dc04",
   "metadata": {},
   "outputs": [],
   "source": [
    "import numpy as np"
   ]
  },
  {
   "cell_type": "code",
   "execution_count": 9,
   "id": "1f686e33",
   "metadata": {},
   "outputs": [
    {
     "ename": "NameError",
     "evalue": "name 'pd' is not defined",
     "output_type": "error",
     "traceback": [
      "\u001b[1;31m---------------------------------------------------------------------------\u001b[0m",
      "\u001b[1;31mNameError\u001b[0m                                 Traceback (most recent call last)",
      "\u001b[1;32m<ipython-input-9-1712e3e29758>\u001b[0m in \u001b[0;36m<module>\u001b[1;34m\u001b[0m\n\u001b[1;32m----> 1\u001b[1;33m \u001b[0mdf\u001b[0m \u001b[1;33m=\u001b[0m \u001b[0mpd\u001b[0m\u001b[1;33m.\u001b[0m\u001b[0mread_csv\u001b[0m\u001b[1;33m(\u001b[0m\u001b[1;34m\"Denver Crime 2001-2013.csv\"\u001b[0m\u001b[1;33m)\u001b[0m\u001b[1;33m\u001b[0m\u001b[1;33m\u001b[0m\u001b[0m\n\u001b[0m",
      "\u001b[1;31mNameError\u001b[0m: name 'pd' is not defined"
     ]
    }
   ],
   "source": [
    "df = pd.read_csv(\"Denver Crime 2001-2013.csv\")"
   ]
  },
  {
   "cell_type": "code",
   "execution_count": 11,
   "id": "45d34fd1",
   "metadata": {},
   "outputs": [],
   "source": [
    "import pandas as pd"
   ]
  },
  {
   "cell_type": "code",
   "execution_count": 12,
   "id": "74b03208",
   "metadata": {},
   "outputs": [],
   "source": [
    "df = pd.read_csv(\"Denver Crime 2001-2013.csv\")"
   ]
  },
  {
   "cell_type": "code",
   "execution_count": 13,
   "id": "36eea393",
   "metadata": {},
   "outputs": [
    {
     "data": {
      "text/html": [
       "<div>\n",
       "<style scoped>\n",
       "    .dataframe tbody tr th:only-of-type {\n",
       "        vertical-align: middle;\n",
       "    }\n",
       "\n",
       "    .dataframe tbody tr th {\n",
       "        vertical-align: top;\n",
       "    }\n",
       "\n",
       "    .dataframe thead th {\n",
       "        text-align: right;\n",
       "    }\n",
       "</style>\n",
       "<table border=\"1\" class=\"dataframe\">\n",
       "  <thead>\n",
       "    <tr style=\"text-align: right;\">\n",
       "      <th></th>\n",
       "      <th>Type</th>\n",
       "      <th>2001</th>\n",
       "      <th>2002</th>\n",
       "      <th>2003</th>\n",
       "      <th>2004</th>\n",
       "      <th>2005</th>\n",
       "      <th>2006</th>\n",
       "      <th>2007</th>\n",
       "      <th>2008</th>\n",
       "      <th>2009</th>\n",
       "      <th>2010</th>\n",
       "      <th>2011</th>\n",
       "      <th>2012</th>\n",
       "      <th>2013</th>\n",
       "      <th>Unnamed: 14</th>\n",
       "      <th>Average</th>\n",
       "    </tr>\n",
       "  </thead>\n",
       "  <tbody>\n",
       "    <tr>\n",
       "      <th>0</th>\n",
       "      <td>Murders</td>\n",
       "      <td>45.0</td>\n",
       "      <td>51.0</td>\n",
       "      <td>63.0</td>\n",
       "      <td>87.0</td>\n",
       "      <td>59.0</td>\n",
       "      <td>51.0</td>\n",
       "      <td>47.0</td>\n",
       "      <td>40.0</td>\n",
       "      <td>39.0</td>\n",
       "      <td>22.0</td>\n",
       "      <td>34.0</td>\n",
       "      <td>39.0</td>\n",
       "      <td>40.0</td>\n",
       "      <td>NaN</td>\n",
       "      <td>47.0</td>\n",
       "    </tr>\n",
       "    <tr>\n",
       "      <th>1</th>\n",
       "      <td>Rapes</td>\n",
       "      <td>317.0</td>\n",
       "      <td>324.0</td>\n",
       "      <td>304.0</td>\n",
       "      <td>243.0</td>\n",
       "      <td>328.0</td>\n",
       "      <td>342.0</td>\n",
       "      <td>296.0</td>\n",
       "      <td>282.0</td>\n",
       "      <td>343.0</td>\n",
       "      <td>367.0</td>\n",
       "      <td>396.0</td>\n",
       "      <td>376.0</td>\n",
       "      <td>514.0</td>\n",
       "      <td>NaN</td>\n",
       "      <td>341.0</td>\n",
       "    </tr>\n",
       "    <tr>\n",
       "      <th>2</th>\n",
       "      <td>Robberies</td>\n",
       "      <td>1250.0</td>\n",
       "      <td>1193.0</td>\n",
       "      <td>1421.0</td>\n",
       "      <td>1442.0</td>\n",
       "      <td>1432.0</td>\n",
       "      <td>1280.0</td>\n",
       "      <td>1045.0</td>\n",
       "      <td>951.0</td>\n",
       "      <td>946.0</td>\n",
       "      <td>926.0</td>\n",
       "      <td>1143.0</td>\n",
       "      <td>1165.0</td>\n",
       "      <td>1132.0</td>\n",
       "      <td>NaN</td>\n",
       "      <td>1179.0</td>\n",
       "    </tr>\n",
       "    <tr>\n",
       "      <th>3</th>\n",
       "      <td>Assaults</td>\n",
       "      <td>1462.0</td>\n",
       "      <td>1539.0</td>\n",
       "      <td>1743.0</td>\n",
       "      <td>2718.0</td>\n",
       "      <td>2673.0</td>\n",
       "      <td>2652.0</td>\n",
       "      <td>2164.0</td>\n",
       "      <td>2088.0</td>\n",
       "      <td>2165.0</td>\n",
       "      <td>1976.0</td>\n",
       "      <td>2135.0</td>\n",
       "      <td>2291.0</td>\n",
       "      <td>2401.0</td>\n",
       "      <td>NaN</td>\n",
       "      <td>2154.0</td>\n",
       "    </tr>\n",
       "    <tr>\n",
       "      <th>4</th>\n",
       "      <td>Burglaries</td>\n",
       "      <td>5642.0</td>\n",
       "      <td>6117.0</td>\n",
       "      <td>7097.0</td>\n",
       "      <td>7322.0</td>\n",
       "      <td>7360.0</td>\n",
       "      <td>6543.0</td>\n",
       "      <td>5694.0</td>\n",
       "      <td>5173.0</td>\n",
       "      <td>4763.0</td>\n",
       "      <td>4501.0</td>\n",
       "      <td>4868.0</td>\n",
       "      <td>5129.0</td>\n",
       "      <td>4918.0</td>\n",
       "      <td>NaN</td>\n",
       "      <td>5779.0</td>\n",
       "    </tr>\n",
       "  </tbody>\n",
       "</table>\n",
       "</div>"
      ],
      "text/plain": [
       "         Type    2001    2002    2003    2004    2005    2006    2007    2008  \\\n",
       "0     Murders    45.0    51.0    63.0    87.0    59.0    51.0    47.0    40.0   \n",
       "1       Rapes   317.0   324.0   304.0   243.0   328.0   342.0   296.0   282.0   \n",
       "2   Robberies  1250.0  1193.0  1421.0  1442.0  1432.0  1280.0  1045.0   951.0   \n",
       "3    Assaults  1462.0  1539.0  1743.0  2718.0  2673.0  2652.0  2164.0  2088.0   \n",
       "4  Burglaries  5642.0  6117.0  7097.0  7322.0  7360.0  6543.0  5694.0  5173.0   \n",
       "\n",
       "     2009    2010    2011    2012    2013  Unnamed: 14  Average  \n",
       "0    39.0    22.0    34.0    39.0    40.0          NaN     47.0  \n",
       "1   343.0   367.0   396.0   376.0   514.0          NaN    341.0  \n",
       "2   946.0   926.0  1143.0  1165.0  1132.0          NaN   1179.0  \n",
       "3  2165.0  1976.0  2135.0  2291.0  2401.0          NaN   2154.0  \n",
       "4  4763.0  4501.0  4868.0  5129.0  4918.0          NaN   5779.0  "
      ]
     },
     "execution_count": 13,
     "metadata": {},
     "output_type": "execute_result"
    }
   ],
   "source": [
    "df.head()"
   ]
  },
  {
   "cell_type": "code",
   "execution_count": 15,
   "id": "e0d3131d",
   "metadata": {},
   "outputs": [
    {
     "data": {
      "text/plain": [
       "<AxesSubplot:>"
      ]
     },
     "execution_count": 15,
     "metadata": {},
     "output_type": "execute_result"
    },
    {
     "data": {
      "image/png": "[encoded data removed]",
      "text/plain": [
       "<Figure size 432x288 with 1 Axes>"
      ]
     },
     "metadata": {
      "needs_background": "light"
     },
     "output_type": "display_data"
    }
   ],
   "source": [
    "df.boxplot()"
   ]
  },
  {
   "cell_type": "code",
   "execution_count": 26,
   "id": "a74c6a88",
   "metadata": {},
   "outputs": [
    {
     "data": {
      "text/plain": [
       "Text(0, 0.5, 'Averages')"
      ]
     },
     "execution_count": 26,
     "metadata": {},
     "output_type": "execute_result"
    },
    {
     "data": {
      "image/png": "[encoded data removed]",
      "text/plain": [
       "<Figure size 432x288 with 1 Axes>"
      ]
     },
     "metadata": {
      "needs_background": "light"
     },
     "output_type": "display_data"
    }
   ],
   "source": [
    "Type = ['Murders', 'Rapes', 'Robberies', 'Assaults', 'Burglaries']\n",
    "Average = [47, 341, 1179, 2154, 5779]\n",
    "plt.plot(Type, Average)\n",
    "plt.xlabel('Type of Crime')\n",
    "plt.ylabel('Averages')"
   ]
  },
  {
   "cell_type": "code",
   "execution_count": 33,
   "id": "f2fad31d",
   "metadata": {},
   "outputs": [
    {
     "data": {
      "text/plain": [
       "([0, 1, 2, 3, 4, 5, 6, 7, 8, 9, 10, 11, 12],\n",
       " [Text(0, 0, ''),\n",
       "  Text(0, 0, ''),\n",
       "  Text(0, 0, ''),\n",
       "  Text(0, 0, ''),\n",
       "  Text(0, 0, ''),\n",
       "  Text(0, 0, ''),\n",
       "  Text(0, 0, ''),\n",
       "  Text(0, 0, ''),\n",
       "  Text(0, 0, ''),\n",
       "  Text(0, 0, ''),\n",
       "  Text(0, 0, ''),\n",
       "  Text(0, 0, ''),\n",
       "  Text(0, 0, '')])"
      ]
     },
     "execution_count": 33,
     "metadata": {},
     "output_type": "execute_result"
    },
    {
     "data": {
      "image/png": "[encoded data removed]",
      "text/plain": [
       "<Figure size 432x288 with 1 Axes>"
      ]
     },
     "metadata": {
      "needs_background": "light"
     },
     "output_type": "display_data"
    }
   ],
   "source": [
    "Year = ['2001', '2002', '2003', '2004', '2005', '2006', '2007', '2008', '2009', '2010', '2011', '2012', '2013']\n",
    "Murder = [45, 51, 63, 87, 59, 51, 47, 40, 39, 22, 34, 39,40]\n",
    "plt.bar(Year, Murder)\n",
    "plt.xlabel('Year')\n",
    "plt.ylabel('Number of Murders')\n",
    "plt.xticks(rotation= 90)"
   ]
  },
  {
   "cell_type": "code",
   "execution_count": null,
   "id": "01d20c06",
   "metadata": {},
   "outputs": [],
   "source": []
  }
 ],
 "metadata": {
  "kernelspec": {
   "display_name": "Python 3",
   "language": "python",
   "name": "python3"
  },
  "language_info": {
   "codemirror_mode": {
    "name": "ipython",
    "version": 3
   },
   "file_extension": ".py",
   "mimetype": "text/x-python",
   "name": "python",
   "nbconvert_exporter": "python",
   "pygments_lexer": "ipython3",
   "version": "3.8.8"
  }
 },
 "nbformat": 4,
 "nbformat_minor": 5
}
